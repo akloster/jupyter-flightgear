{
 "cells": [
  {
   "cell_type": "markdown",
   "metadata": {
    "slideshow": {
     "slide_type": "slide"
    }
   },
   "source": [
    "# FlightGear + Jupyter + Bokeh\n",
    "\n",
    "### Streaming live data from FlightGear to plots in a Jupyter notebook\n",
    "Andreas Klostermann\n",
    "\n",
    "* @BayesianHorse\n",
    "* www.github.com/akloster/jupyter-flightgear"
   ]
  },
  {
   "cell_type": "markdown",
   "metadata": {
    "slideshow": {
     "slide_type": "notes"
    }
   },
   "source": [
    "## Introduction\n",
    "\n",
    "This is a demonstration of how to use the flexibility of Jupyter and Bokeh to create rich and impressive data science environments.\n",
    "\n",
    "FlightGear is a very mature and sophisticated open source flight simulation for multiple platforms. It offers several ways to monitor the variables of the simulation, one of which is a websocket interface, which can be easily integrated into the IPython kernel framework.\n",
    "\n",
    "In order to run this notebook you need a recent Anaconda install for Python 3.5 with Bokeh and Jupyter. You also need a resonably recent FlightGear installation (3.6 for example).\n",
    "\n",
    "In the demonstration video I used this command line to start FlightGear:\n",
    "\n",
    "```bash\n",
    "./run_fgfs.sh --fg-aircraft=/media/internal_2/aircraft --disable-ai-models  --prop:/sim/ai-traffic/enabled=false --prop:/sim/traffic-manager/enabled=false  --disable-enhanced-lighting --disable-clouds3d --disable-clouds3d --geometry=500x500 --httpd=9095\n",
    "```\n",
    "\n",
    "A couple of the options have to do with optimizing for screen capture. The only important option is \"--httpd=9095\" which enables the internal webserver.\n",
    "\n",
    "This notebook file can be viewed either just-as-is, with all the notes and details, or as a presentation with live-reveal."
   ]
  },
  {
   "cell_type": "code",
   "execution_count": null,
   "metadata": {
    "collapsed": false,
    "slideshow": {
     "slide_type": "skip"
    }
   },
   "outputs": [],
   "source": [
    "%%html\n",
    "<style>\n",
    " .container.slides .celltoolbar, .container.slides .hide-in-slideshow, #exit_b, #help_b {\n",
    "    display: None ! important;\n",
    "}\n",
    "section#slide-0-0 {\n",
    "}\n",
    "// Some styles to make presentation better for video capture\n",
    ".container.slides {\n",
    "    width: 1500px;\n",
    "    \n",
    "}\n",
    ".container.slides .text_cell_render{\n",
    "    font-size: 1.4em;\n",
    "}\n",
    ".container.slides .cell .input {\n",
    "    font-size: 1.2em;\n",
    "}\n",
    "</style>"
   ]
  },
  {
   "cell_type": "code",
   "execution_count": null,
   "metadata": {
    "collapsed": false,
    "slideshow": {
     "slide_type": "notes"
    }
   },
   "outputs": [],
   "source": [
    "# Setting up the environment\n",
    "import bokeh\n",
    "from bokeh.plotting import *\n",
    "import bokeh_update\n",
    "output_notebook()\n",
    "bokeh_update.install_javascript()\n",
    "\n",
    "from flightgear import FlightGearConnection\n",
    "from attitude import AttitudeIndicator\n",
    "from utils import StopButton"
   ]
  },
  {
   "cell_type": "code",
   "execution_count": null,
   "metadata": {
    "collapsed": false,
    "slideshow": {
     "slide_type": "notes"
    }
   },
   "outputs": [],
   "source": [
    "# Run the FlightGearClient\n",
    "fg = FlightGearConnection(\"localhost\", 9095)\n",
    "fg.connect()\n",
    "\n",
    "pitch = fg.listen(\"/orientation/pitch-deg\")\n",
    "roll = fg.listen(\"/orientation/roll-deg\")\n",
    "altitude = fg.listen(\"/position/altitude-agl-ft\")\n",
    "airspeed = fg.listen(\"/velocities/airspeed-kt\")\n",
    "groundspeed = fg.listen(\"/velocities/groundspeed-kt\")\n"
   ]
  },
  {
   "cell_type": "code",
   "execution_count": null,
   "metadata": {
    "collapsed": false,
    "slideshow": {
     "slide_type": "slide"
    }
   },
   "outputs": [],
   "source": [
    "# Create Plot\n",
    "attitude_indicator = AttitudeIndicator()\n",
    "show(attitude_indicator.plot)\n",
    "\n",
    "# Loop\n",
    "button = StopButton(description=\"Stop\")\n",
    "@button.loop(interval=0.20)\n",
    "def iterate():\n",
    "    p = pitch.values[-1]\n",
    "    r = roll.values[-1]\n",
    "    attitude_indicator.update(p,r)\n",
    "    "
   ]
  },
  {
   "cell_type": "code",
   "execution_count": null,
   "metadata": {
    "collapsed": false
   },
   "outputs": [],
   "source": [
    "from timeseries_demo import TimeSeriesDemo"
   ]
  },
  {
   "cell_type": "code",
   "execution_count": null,
   "metadata": {
    "collapsed": false,
    "scrolled": false,
    "slideshow": {
     "slide_type": "slide"
    }
   },
   "outputs": [],
   "source": [
    "demo = TimeSeriesDemo()\n",
    "demo.update(airspeed, groundspeed, altitude, transmit=False)\n",
    "show(demo.ag_plot)\n",
    "show(demo.altitude_plot)\n",
    "# Loop\n",
    "button = StopButton(description=\"Stop\")\n",
    "@button.loop(interval=0.5)\n",
    "def iterate():\n",
    "    demo.update(airspeed, groundspeed, altitude)"
   ]
  },
  {
   "cell_type": "code",
   "execution_count": null,
   "metadata": {
    "collapsed": true,
    "scrolled": true
   },
   "outputs": [],
   "source": []
  }
 ],
 "metadata": {
  "celltoolbar": "Slideshow",
  "kernelspec": {
   "display_name": "Python 3",
   "language": "python",
   "name": "python3"
  },
  "language_info": {
   "codemirror_mode": {
    "name": "ipython",
    "version": 3
   },
   "file_extension": ".py",
   "mimetype": "text/x-python",
   "name": "python",
   "nbconvert_exporter": "python",
   "pygments_lexer": "ipython3",
   "version": "3.5.1"
  }
 },
 "nbformat": 4,
 "nbformat_minor": 0
}
